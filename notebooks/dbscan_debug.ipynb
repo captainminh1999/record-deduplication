{
 "cells": [
  {
   "cell_type": "markdown",
   "metadata": {},
   "source": [
    "# DBSCAN Debugging"
   ]
  },
  {
   "cell_type": "code",
   "execution_count": null,
   "metadata": {},
   "outputs": [],
   "source": [
    "import pandas as pd\n",
    "import matplotlib.pyplot as plt\n",
    "from sklearn.neighbors import NearestNeighbors\n",
    "from sklearn.decomposition import PCA\n",
    "\n",
    "agg = pd.read_csv('../data/outputs/agg_features.csv')"
   ]
  },
  {
   "cell_type": "markdown",
   "metadata": {},
   "source": [
    "The following plot helps choose a good `eps` value by examining the distance to the 4th nearest neighbour."
   ]
  },
  {
   "cell_type": "code",
   "execution_count": null,
   "metadata": {},
   "outputs": [],
   "source": [
    "sim_cols = [c for c in agg.columns if c not in {'record_id','cluster'}]\n",
    "neigh = NearestNeighbors(n_neighbors=4)\n",
    "neigh.fit(agg[sim_cols])\n",
    "# Distances to the 4th nearest neighbour for each point\n",
    "dists, _ = neigh.kneighbors(agg[sim_cols])\n",
    "fourth = dists[:, -1]\n",
    "plt.plot(sorted(fourth))\n",
    "plt.xlabel('Points sorted by distance')\n",
    "plt.ylabel('4th NN distance')\n",
    "plt.title('4th nearest neighbour curve')\n",
    "plt.show()"
   ]
  },
  {
   "cell_type": "markdown",
   "metadata": {},
   "source": [
    "Use a knee in the curve above to set `eps`."
   ]
  },
  {
   "cell_type": "code",
   "execution_count": null,
   "metadata": {},
   "outputs": [],
   "source": [
    "pca = PCA(n_components=2)\n",
    "X = pca.fit_transform(agg[sim_cols])\n",
    "plt.figure()\n",
    "if 'cluster' in agg.columns:\n",
    "    plt.scatter(X[:,0], X[:,1], c=agg['cluster'], cmap='tab10', s=20)\n",
    "else:\n",
    "    plt.scatter(X[:,0], X[:,1], s=20)\n",
    "plt.xlabel('PC1')\n",
    "plt.ylabel('PC2')\n",
    "plt.title('PCA of aggregated features')\n",
    "plt.show()"
   ]
  },
  {
   "cell_type": "markdown",
   "metadata": {},
   "source": [
    "If cluster labels are provided, the scatter plot is coloured accordingly to inspect separability."
   ]
  }
 ],
 "metadata": {
  "kernelspec": {
   "display_name": "Dedupe Env",
   "language": "python",
   "name": "dedupe-env"
  },
  "language_info": {
   "codemirror_mode": {
    "name": "ipython",
    "version": 3
   },
   "file_extension": ".py",
   "mimetype": "text/x-python",
   "name": "python",
   "nbconvert_exporter": "python",
   "pygments_lexer": "ipython3",
   "version": "3.11.9"
  }
 },
 "nbformat": 4,
 "nbformat_minor": 5
}
